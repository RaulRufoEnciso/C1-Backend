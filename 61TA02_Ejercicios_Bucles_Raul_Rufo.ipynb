{
 "cells": [
  {
   "cell_type": "code",
   "execution_count": null,
   "metadata": {},
   "outputs": [
    {
     "name": "stdout",
     "output_type": "stream",
     "text": [
      "hola\n",
      "hola\n",
      "hola\n",
      "hola\n",
      "hola\n",
      "hola\n",
      "hola\n",
      "hola\n",
      "hola\n",
      "hola\n"
     ]
    }
   ],
   "source": [
    "palabra = input(\"Palabra a repetir: \")\n",
    "for i in range(10):\n",
    "    print(palabra)"
   ]
  },
  {
   "cell_type": "code",
   "execution_count": null,
   "metadata": {},
   "outputs": [
    {
     "name": "stdout",
     "output_type": "stream",
     "text": [
      "1\n",
      "2\n",
      "3\n",
      "4\n",
      "5\n",
      "6\n",
      "7\n",
      "8\n",
      "9\n",
      "10\n",
      "11\n",
      "12\n",
      "13\n",
      "14\n",
      "15\n",
      "16\n",
      "17\n",
      "18\n",
      "19\n",
      "20\n"
     ]
    }
   ],
   "source": [
    "\n",
    "for i in range(int(input(\"dime tu edad: \"))):\n",
    "    print(i+1)"
   ]
  },
  {
   "cell_type": "code",
   "execution_count": null,
   "metadata": {},
   "outputs": [
    {
     "name": "stdout",
     "output_type": "stream",
     "text": [
      "1, 3, 5, 7, 9, 11, \n"
     ]
    }
   ],
   "source": [
    "cadena = \"\"\n",
    "for i in range(1, int(input(\"Dame un numero entero positivo: \")), 2):\n",
    "    cadena += str(i)+\", \"\n",
    "print(cadena)"
   ]
  },
  {
   "cell_type": "code",
   "execution_count": 104,
   "metadata": {},
   "outputs": [
    {
     "name": "stdout",
     "output_type": "stream",
     "text": [
      "11, 10, 9, 8, 7, 6, 5, 4, 3, 2, 1, 0\n"
     ]
    }
   ],
   "source": [
    "nuemro = int(input(\"Dame un numero entero positivo: \"))\n",
    "cadena = \"\"\n",
    "while nuemro != 0:\n",
    "    for i in range(nuemro, 0, -1):\n",
    "        cadena += str(i)+\", \"\n",
    "        nuemro -= 1\n",
    "    print(f\"{cadena}0\")"
   ]
  },
  {
   "cell_type": "code",
   "execution_count": null,
   "metadata": {},
   "outputs": [
    {
     "name": "stdout",
     "output_type": "stream",
     "text": [
      "Conseguiste ganar un total de 225.0€\n"
     ]
    }
   ],
   "source": [
    "invertir = float(input(\"Quanto quieres invertir? \"))\n",
    "interes_anual = float(input(\"Interes anual? \"))\n",
    "num_years = int(input(\"En cuantos años? \"))\n",
    "for num_years in range(1, num_years +1):\n",
    "    total = invertir * (1+interes_anual/100)**num_years\n",
    "print(f\"Conseguiste ganar un total de {total}€\")"
   ]
  },
  {
   "cell_type": "code",
   "execution_count": null,
   "metadata": {},
   "outputs": [
    {
     "name": "stdout",
     "output_type": "stream",
     "text": [
      "*\n",
      "**\n",
      "***\n",
      "****\n",
      "*****\n",
      "******\n",
      "*******\n",
      "********\n",
      "*********\n",
      "**********\n"
     ]
    }
   ],
   "source": [
    "nuemro = int(input(\"Dame un numero: \"))\n",
    "cadena = \"\"\n",
    "while nuemro != 0:\n",
    "    for i in range(nuemro, 0, -1):\n",
    "        cadena += \"*\"\n",
    "        nuemro -= 1\n",
    "        print(cadena)"
   ]
  },
  {
   "cell_type": "code",
   "execution_count": 97,
   "metadata": {},
   "outputs": [
    {
     "name": "stdout",
     "output_type": "stream",
     "text": [
      "1 x 1 = 1\n",
      "1 x 2 = 2\n",
      "1 x 3 = 3\n",
      "1 x 4 = 4\n",
      "1 x 5 = 5\n",
      "1 x 6 = 6\n",
      "1 x 7 = 7\n",
      "1 x 8 = 8\n",
      "1 x 9 = 9\n",
      "1 x 10 = 10\n",
      "2 x 1 = 2\n",
      "2 x 2 = 4\n",
      "2 x 3 = 6\n",
      "2 x 4 = 8\n",
      "2 x 5 = 10\n",
      "2 x 6 = 12\n",
      "2 x 7 = 14\n",
      "2 x 8 = 16\n",
      "2 x 9 = 18\n",
      "2 x 10 = 20\n",
      "3 x 1 = 3\n",
      "3 x 2 = 6\n",
      "3 x 3 = 9\n",
      "3 x 4 = 12\n",
      "3 x 5 = 15\n",
      "3 x 6 = 18\n",
      "3 x 7 = 21\n",
      "3 x 8 = 24\n",
      "3 x 9 = 27\n",
      "3 x 10 = 30\n",
      "4 x 1 = 4\n",
      "4 x 2 = 8\n",
      "4 x 3 = 12\n",
      "4 x 4 = 16\n",
      "4 x 5 = 20\n",
      "4 x 6 = 24\n",
      "4 x 7 = 28\n",
      "4 x 8 = 32\n",
      "4 x 9 = 36\n",
      "4 x 10 = 40\n",
      "5 x 1 = 5\n",
      "5 x 2 = 10\n",
      "5 x 3 = 15\n",
      "5 x 4 = 20\n",
      "5 x 5 = 25\n",
      "5 x 6 = 30\n",
      "5 x 7 = 35\n",
      "5 x 8 = 40\n",
      "5 x 9 = 45\n",
      "5 x 10 = 50\n",
      "6 x 1 = 6\n",
      "6 x 2 = 12\n",
      "6 x 3 = 18\n",
      "6 x 4 = 24\n",
      "6 x 5 = 30\n",
      "6 x 6 = 36\n",
      "6 x 7 = 42\n",
      "6 x 8 = 48\n",
      "6 x 9 = 54\n",
      "6 x 10 = 60\n",
      "7 x 1 = 7\n",
      "7 x 2 = 14\n",
      "7 x 3 = 21\n",
      "7 x 4 = 28\n",
      "7 x 5 = 35\n",
      "7 x 6 = 42\n",
      "7 x 7 = 49\n",
      "7 x 8 = 56\n",
      "7 x 9 = 63\n",
      "7 x 10 = 70\n",
      "8 x 1 = 8\n",
      "8 x 2 = 16\n",
      "8 x 3 = 24\n",
      "8 x 4 = 32\n",
      "8 x 5 = 40\n",
      "8 x 6 = 48\n",
      "8 x 7 = 56\n",
      "8 x 8 = 64\n",
      "8 x 9 = 72\n",
      "8 x 10 = 80\n",
      "9 x 1 = 9\n",
      "9 x 2 = 18\n",
      "9 x 3 = 27\n",
      "9 x 4 = 36\n",
      "9 x 5 = 45\n",
      "9 x 6 = 54\n",
      "9 x 7 = 63\n",
      "9 x 8 = 72\n",
      "9 x 9 = 81\n",
      "9 x 10 = 90\n",
      "10 x 1 = 10\n",
      "10 x 2 = 20\n",
      "10 x 3 = 30\n",
      "10 x 4 = 40\n",
      "10 x 5 = 50\n",
      "10 x 6 = 60\n",
      "10 x 7 = 70\n",
      "10 x 8 = 80\n",
      "10 x 9 = 90\n",
      "10 x 10 = 100\n"
     ]
    }
   ],
   "source": [
    "for i in range(1,11):\n",
    "    for j in range(1,11):\n",
    "        print(f\"{i} x {j} = {i*j}\")"
   ]
  },
  {
   "cell_type": "code",
   "execution_count": 123,
   "metadata": {},
   "outputs": [
    {
     "name": "stdout",
     "output_type": "stream",
     "text": [
      "1 \n",
      "3 1 \n",
      "5 3 1 \n",
      "7 5 3 1 \n",
      "9 7 5 3 1 \n",
      "11 9 7 5 3 1 \n"
     ]
    }
   ],
   "source": [
    "nuemro = int(input(\"Dame un numero: \"))\n",
    "for i in range(1, nuemro +1, 2):  \n",
    "    for j in range(i, 0, -2):  \n",
    "        print(j, end=\" \")\n",
    "    print() \n"
   ]
  },
  {
   "cell_type": "code",
   "execution_count": 86,
   "metadata": {},
   "outputs": [
    {
     "name": "stdout",
     "output_type": "stream",
     "text": [
      "Vuelve a intentarlo!!\n",
      "Eureka\n"
     ]
    }
   ],
   "source": [
    "password = input(\"Escribe una contraseña: \")\n",
    "while password != input(\"Escribe de nuevo: \"):\n",
    "    print(\"Vuelve a intentarlo!!\")\n",
    "print(\"Eureka\")"
   ]
  },
  {
   "cell_type": "code",
   "execution_count": 121,
   "metadata": {},
   "outputs": [
    {
     "name": "stdout",
     "output_type": "stream",
     "text": [
      "2 es primo\n"
     ]
    }
   ],
   "source": [
    "numero= int(input(\"Escribe un numero entero: \"))\n",
    "n=2\n",
    "if numero ==1:\n",
    "    print(f\"{numero} no es primo\")\n",
    "else:\n",
    "    while numero % n != 0:\n",
    "        n +=1\n",
    "    if n==numero:\n",
    "        print(f\"{numero} es primo\")\n",
    "\n",
    "    else:\n",
    "        print(f\"{numero} no lo es\")"
   ]
  },
  {
   "cell_type": "code",
   "execution_count": 89,
   "metadata": {},
   "outputs": [
    {
     "name": "stdout",
     "output_type": "stream",
     "text": [
      "n\n",
      "o\n",
      "h\n",
      "t\n",
      "y\n",
      "p\n"
     ]
    }
   ],
   "source": [
    "\n",
    "for i in reversed(input(\"muestra una palabra\")):\n",
    "    print(i)"
   ]
  },
  {
   "cell_type": "code",
   "execution_count": 96,
   "metadata": {},
   "outputs": [
    {
     "name": "stdout",
     "output_type": "stream",
     "text": [
      " \n",
      "En la frase:\n",
      "<<Las tablas de multiplicar>> \n",
      "Se repite la letra \"a\" un total de 4 veces\n",
      "\n"
     ]
    }
   ],
   "source": [
    "frase = input(\"Dame una palabra\")\n",
    "letra = input(\"Dame una letra\")\n",
    "repetidas = 0\n",
    "for i in frase:\n",
    "    if i == letra:\n",
    "        repetidas += 1\n",
    "print(f''' \n",
    "En la frase:\n",
    "<<{frase}>> \n",
    "Se repite la letra \"{letra}\" un total de {repetidas} veces\n",
    "''')"
   ]
  },
  {
   "cell_type": "code",
   "execution_count": 107,
   "metadata": {},
   "outputs": [
    {
     "name": "stdout",
     "output_type": "stream",
     "text": [
      "hola\n",
      "hola\n",
      "adios\n",
      "adios\n",
      "patata\n",
      "zanahoria\n"
     ]
    }
   ],
   "source": [
    "eco = input(\"Habla y saldra el eco: \")\n",
    "while eco != \"salir\":\n",
    "    print(eco)\n",
    "    eco =input(\"Habla y saldra el eco: \")"
   ]
  }
 ],
 "metadata": {
  "kernelspec": {
   "display_name": "base",
   "language": "python",
   "name": "python3"
  },
  "language_info": {
   "codemirror_mode": {
    "name": "ipython",
    "version": 3
   },
   "file_extension": ".py",
   "mimetype": "text/x-python",
   "name": "python",
   "nbconvert_exporter": "python",
   "pygments_lexer": "ipython3",
   "version": "3.12.4"
  }
 },
 "nbformat": 4,
 "nbformat_minor": 2
}
