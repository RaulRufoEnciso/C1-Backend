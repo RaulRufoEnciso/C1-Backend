{
 "cells": [
  {
   "cell_type": "code",
   "execution_count": 21,
   "metadata": {},
   "outputs": [
    {
     "name": "stdout",
     "output_type": "stream",
     "text": [
      "[2, 4, 6, 8]\n"
     ]
    }
   ],
   "source": [
    "def duplicar_lista(lista):\n",
    "    return list(map(lambda x: x * 2, lista))\n",
    "\n",
    "print(duplicar_lista([1, 2, 3, 4])) "
   ]
  },
  {
   "cell_type": "code",
   "execution_count": 22,
   "metadata": {},
   "outputs": [
    {
     "name": "stdout",
     "output_type": "stream",
     "text": [
      "[2, 4, 6]\n"
     ]
    }
   ],
   "source": [
    "def filtrar_pares(lista):\n",
    "    return list(filter(lambda x: x % 2 == 0, lista))\n",
    "\n",
    "print(filtrar_pares([1, 2, 3, 4, 5, 6]))"
   ]
  },
  {
   "cell_type": "code",
   "execution_count": 23,
   "metadata": {},
   "outputs": [
    {
     "name": "stdout",
     "output_type": "stream",
     "text": [
      "10\n"
     ]
    }
   ],
   "source": [
    "from functools import reduce\n",
    "\n",
    "def sumar_numeros(lista):\n",
    "    return reduce(lambda x, y: x + y, lista)\n",
    "\n",
    "print(sumar_numeros([1, 2, 3, 4])) "
   ]
  },
  {
   "cell_type": "code",
   "execution_count": 24,
   "metadata": {},
   "outputs": [
    {
     "name": "stdout",
     "output_type": "stream",
     "text": [
      "[3, 7, 11]\n"
     ]
    }
   ],
   "source": [
    "def aplicar_a_lista_de_listas(lista_de_listas):\n",
    "    return list(map(lambda sublista: sum(sublista), lista_de_listas))\n",
    "\n",
    "print(aplicar_a_lista_de_listas([[1, 2], [3, 4], [5, 6]])) "
   ]
  },
  {
   "cell_type": "code",
   "execution_count": 25,
   "metadata": {},
   "outputs": [
    {
     "name": "stdout",
     "output_type": "stream",
     "text": [
      "['hola', 'mundo', 'programación', 'funcional']\n"
     ]
    }
   ],
   "source": [
    "from functools import reduce\n",
    "\n",
    "def concatenar_palabras(lista_de_listas):\n",
    "    return reduce(lambda x, y: x + y, lista_de_listas)\n",
    "\n",
    "print(concatenar_palabras([[\"hola\", \"mundo\"], [\"programación\", \"funcional\"]]))"
   ]
  },
  {
   "cell_type": "code",
   "execution_count": 26,
   "metadata": {},
   "outputs": [
    {
     "name": "stdout",
     "output_type": "stream",
     "text": [
      "3\n"
     ]
    }
   ],
   "source": [
    "def contar_palabras_largas(lista_palabras):\n",
    "    return len(list(filter(lambda palabra: len(palabra) > 5, lista_palabras)))\n",
    "\n",
    "print(contar_palabras_largas([\"python\", \"programación\", \"es\", \"genial\"]))"
   ]
  },
  {
   "cell_type": "code",
   "execution_count": 27,
   "metadata": {},
   "outputs": [
    {
     "name": "stdout",
     "output_type": "stream",
     "text": [
      "['HOLA', 'MUNDO']\n",
      "2\n"
     ]
    }
   ],
   "source": [
    "def convertir_a_mayusculas(lista_palabras):\n",
    "    return list(map(lambda palabra: palabra.upper(), lista_palabras))\n",
    "\n",
    "def contar_palabras_mayusculas(lista_palabras):\n",
    "    return len(list(filter(lambda palabra: palabra.isupper(), lista_palabras)))\n",
    "\n",
    "print(convertir_a_mayusculas([\"hola\", \"mundo\"])) \n",
    "print(contar_palabras_mayusculas([\"HOLA\", \"MUNDO\", \"hola\"])) "
   ]
  },
  {
   "cell_type": "code",
   "execution_count": 28,
   "metadata": {},
   "outputs": [
    {
     "name": "stdout",
     "output_type": "stream",
     "text": [
      "24\n"
     ]
    }
   ],
   "source": [
    "def procesar_numeros(lista):\n",
    "    return reduce(lambda x, y: x + y, map(lambda x: x * 2, filter(lambda x: x % 2 == 0, lista)))\n",
    "\n",
    "print(procesar_numeros([1, 2, 3, 4, 5, 6]))"
   ]
  },
  {
   "cell_type": "code",
   "execution_count": 29,
   "metadata": {},
   "outputs": [
    {
     "name": "stdout",
     "output_type": "stream",
     "text": [
      "[3, 6, 9]\n"
     ]
    }
   ],
   "source": [
    "from functools import partial\n",
    "\n",
    "def multiplicar_por(n):\n",
    "    return partial(map, lambda x: x * n)\n",
    "\n",
    "multiplicar_por_3 = multiplicar_por(3)\n",
    "print(list(multiplicar_por_3([1, 2, 3]))) "
   ]
  },
  {
   "cell_type": "code",
   "execution_count": 30,
   "metadata": {},
   "outputs": [
    {
     "name": "stdout",
     "output_type": "stream",
     "text": [
      "3\n"
     ]
    }
   ],
   "source": [
    "def procesar_texto(lista_palabras):\n",
    "    lista_min = map(lambda palabra: palabra.lower(), lista_palabras)\n",
    "    lista_filtrada = filter(lambda palabra: palabra[0] in 'aeiouáéíóú', lista_min)\n",
    "    return len(list(lista_filtrada))\n",
    "\n",
    "print(procesar_texto([\"Árbol\", \"casa\", \"elefante\", \"idea\", \"sol\"]))"
   ]
  }
 ],
 "metadata": {
  "kernelspec": {
   "display_name": "base",
   "language": "python",
   "name": "python3"
  },
  "language_info": {
   "codemirror_mode": {
    "name": "ipython",
    "version": 3
   },
   "file_extension": ".py",
   "mimetype": "text/x-python",
   "name": "python",
   "nbconvert_exporter": "python",
   "pygments_lexer": "ipython3",
   "version": "3.12.4"
  }
 },
 "nbformat": 4,
 "nbformat_minor": 2
}
