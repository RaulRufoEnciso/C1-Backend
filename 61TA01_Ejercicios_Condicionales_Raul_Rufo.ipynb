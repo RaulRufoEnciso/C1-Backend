{
 "cells": [
  {
   "cell_type": "code",
   "execution_count": 2,
   "metadata": {},
   "outputs": [
    {
     "name": "stdout",
     "output_type": "stream",
     "text": [
      "Es mayor de edad\n"
     ]
    }
   ],
   "source": [
    "if int(input(\"Dime tu edad: \")) > 18: \n",
    "    print(\"Es mayor de edad\") \n",
    "else: \n",
    "    print(\"Es menor de edad\")"
   ]
  },
  {
   "cell_type": "code",
   "execution_count": 7,
   "metadata": {},
   "outputs": [
    {
     "name": "stdout",
     "output_type": "stream",
     "text": [
      "Contraseña correcta\n"
     ]
    }
   ],
   "source": [
    "mensaje= \"Contraseña correcta\" if input(\"Escruibe una contraseña: \").lower() == input(\"Escribe otra vez: \").lower() else (\"Contraseña incorrecta\")\n",
    "print(mensaje)"
   ]
  },
  {
   "cell_type": "code",
   "execution_count": 21,
   "metadata": {},
   "outputs": [
    {
     "name": "stdout",
     "output_type": "stream",
     "text": [
      "SyntaxError\n"
     ]
    }
   ],
   "source": [
    "primer = int(input(\"Primer valor: \"))\n",
    "segundo = int(input(\"Segundo valor: \"))\n",
    "if segundo != 0:\n",
    "    print(primer/segundo)\n",
    "else:\n",
    "    print(\"SyntaxError\")"
   ]
  },
  {
   "cell_type": "code",
   "execution_count": 33,
   "metadata": {},
   "outputs": [
    {
     "name": "stdout",
     "output_type": "stream",
     "text": [
      "Es inpar\n"
     ]
    }
   ],
   "source": [
    "mensaje =\"Es inpar\" if int(input(\"escribe un numero entero\")) % 2 else \"Es par\"\n",
    "print(mensaje)"
   ]
  },
  {
   "cell_type": "code",
   "execution_count": 34,
   "metadata": {},
   "outputs": [
    {
     "name": "stdout",
     "output_type": "stream",
     "text": [
      "A tributar\n"
     ]
    }
   ],
   "source": [
    "if int(input(\"Dime tu edad: \")) >= 16 and int(input(\"Introduce tus ingresos\")) >= 1000:\n",
    "    print(\"A tributar\")\n",
    "else:\n",
    "    print(\"No tributa\")"
   ]
  },
  {
   "cell_type": "code",
   "execution_count": 31,
   "metadata": {},
   "outputs": [
    {
     "name": "stdout",
     "output_type": "stream",
     "text": [
      "grupo B\n"
     ]
    }
   ],
   "source": [
    "nombre = input(\"Dime tu nombre: \").lower()\n",
    "sexo = input(\"Dime tu sexo ('h' para hombre, 'm' para mujer)\").lower()\n",
    "if (nombre[0] <= 'm' and sexo == 'm')or (nombre[0] >= 'n' and sexo == 'h'):\n",
    "    print(\"grupo A\")\n",
    "else:\n",
    "    print(\"grupo B\")"
   ]
  },
  {
   "cell_type": "code",
   "execution_count": 85,
   "metadata": {},
   "outputs": [
    {
     "name": "stdout",
     "output_type": "stream",
     "text": [
      "Tu tipo impostivo es de 45%\n"
     ]
    }
   ],
   "source": [
    "renta_anual = input(\"Dime tu renta anual: \")\n",
    "if renta_anual <= \"10000\":\n",
    "    print(\"Tu tipo impostivo es de 5%\")\n",
    "elif renta_anual <= \"20000\":\n",
    "     print(\"Tu tipo impostivo es de 15%\")\n",
    "elif renta_anual <= \"35000\":\n",
    "     print(\"Tu tipo impostivo es de 20%\")\n",
    "elif renta_anual <= \"60000\":\n",
    "     print(\"Tu tipo impostivo es de 30%\")\n",
    "elif renta_anual >= \"60000\":\n",
    "     print(\"Tu tipo impostivo es de 45%\")\n",
    "    "
   ]
  },
  {
   "cell_type": "code",
   "execution_count": 122,
   "metadata": {},
   "outputs": [
    {
     "name": "stdout",
     "output_type": "stream",
     "text": [
      "0.1\n",
      "Tu puntuacion es nivel: Inaceptable y tu dinero es 0.0\n"
     ]
    }
   ],
   "source": [
    "puntuacion = float(input(\"Dime tu puntuacion\"))\n",
    "niveles = [\"Inaceptable\", \"Aceptable\", \"Meritorio\"]\n",
    "print(puntuacion)\n",
    "if puntuacion >= 0.6:\n",
    "    print(f\"Tu puntuacion es nivel: {niveles[2]} y tu dinero es {0.6*2400}€\")\n",
    "elif puntuacion >= 0.4:\n",
    "    print(f\"Tu puntuacion es nivel: {niveles[1]} y tu dinero es {0.4*2400}€\")\n",
    "elif puntuacion >= 0.0:\n",
    "    print(f\"Tu puntuacion es nivel: {niveles[0]} y tu dinero es {0.0*2400}€\")"
   ]
  },
  {
   "cell_type": "code",
   "execution_count": 144,
   "metadata": {},
   "outputs": [
    {
     "name": "stdout",
     "output_type": "stream",
     "text": [
      "Pagas 5€\n"
     ]
    }
   ],
   "source": [
    "edad = int(input(\"Dime tu edad: \"))\n",
    "\n",
    "if edad >= 18:\n",
    "    print(\"Pagas 10€\")\n",
    "elif edad > 4:\n",
    "    print(\"Pagas 5€\")\n",
    "elif edad <= 4:\n",
    "    print(\"Entrada gratis!\")"
   ]
  },
  {
   "cell_type": "code",
   "execution_count": 176,
   "metadata": {},
   "outputs": [
    {
     "name": "stdout",
     "output_type": "stream",
     "text": [
      "['peperoni', 'jamon', 'salmon']\n",
      "Tu pizza de: ['Tomate', 'Mozzarella', 'jamon']. No es vegetariana\n"
     ]
    }
   ],
   "source": [
    "ingredientes_vegetarianos = [\"pimiento\", \"tofu\"]\n",
    "ingredientes_no_vegetariano = [\"peperoni\", \"jamon\", \"salmon\"]\n",
    "pizza = [\"Tomate\", \"Mozzarella\"]\n",
    "\n",
    "if input(\"Quieres una pizza vegana? \").lower() == \"si\":\n",
    "    print(ingredientes_vegetarianos)\n",
    "    ingrediente_elegido = input (\"Que ingrediente elijes ( Solo 1 )\")\n",
    "    if ingrediente_elegido in ingredientes_vegetarianos:\n",
    "        pizza.append(ingrediente_elegido)\n",
    "        print(f\"Tu pizza de: {pizza}. Es vegetariana\")\n",
    "    else: \n",
    "        print(f\"El {ingrediente_elegido} no es vegetariano\")\n",
    "else:\n",
    "    print(ingredientes_no_vegetariano)\n",
    "    ingrediente_elegido = input (\"Que ingrediente elijes ( Solo 1 )\")\n",
    "    if ingrediente_elegido in ingredientes_no_vegetariano:\n",
    "        pizza.append(ingrediente_elegido)\n",
    "        print(f\"Tu pizza de: {pizza}. No es vegetariana\")\n",
    "    else: \n",
    "        print(f\"El {ingrediente_elegido} es vegetariano\")"
   ]
  },
  {
   "cell_type": "code",
   "execution_count": 180,
   "metadata": {},
   "outputs": [
    {
     "name": "stdout",
     "output_type": "stream",
     "text": [
      "['peperoni', 'jamon', 'salmon']\n",
      "El tofu no es no vegetariano\n"
     ]
    }
   ],
   "source": [
    "ingredientes_vegetarianos = [\"pimiento\", \"tofu\"]\n",
    "ingredientes_no_vegetariano = [\"peperoni\", \"jamon\", \"salmon\"]\n",
    "pizza = [\"Tomate\", \"Mozzarella\"]\n",
    "\n",
    "respuesta = input(\"¿Quieres una pizza vegana? \").lower()\n",
    "ingredientes = ingredientes_vegetarianos if respuesta == \"si\" else ingredientes_no_vegetariano\n",
    "print(ingredientes)\n",
    "\n",
    "ingrediente_elegido = input(\"¿Qué ingrediente eliges (solo 1)? \")\n",
    "if ingrediente_elegido in ingredientes:\n",
    "    pizza.append(ingrediente_elegido)\n",
    "    tipo_pizza = \"vegetariana\" if respuesta == \"si\" else \"no vegetariana\"\n",
    "    print(f\"Tu pizza de: {pizza}. Es {tipo_pizza}\")\n",
    "else:\n",
    "    tipo_ingrediente = \"vegetariano\" if respuesta == \"si\" else \"no vegetariano\"\n",
    "    print(f\"El {ingrediente_elegido} no {tipo_ingrediente}\")"
   ]
  }
 ],
 "metadata": {
  "kernelspec": {
   "display_name": "base",
   "language": "python",
   "name": "python3"
  },
  "language_info": {
   "codemirror_mode": {
    "name": "ipython",
    "version": 3
   },
   "file_extension": ".py",
   "mimetype": "text/x-python",
   "name": "python",
   "nbconvert_exporter": "python",
   "pygments_lexer": "ipython3",
   "version": "3.12.4"
  }
 },
 "nbformat": 4,
 "nbformat_minor": 2
}
