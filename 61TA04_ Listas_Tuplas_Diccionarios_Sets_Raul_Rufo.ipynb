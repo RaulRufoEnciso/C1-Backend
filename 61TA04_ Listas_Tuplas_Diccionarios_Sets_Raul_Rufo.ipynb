{
 "cells": [
  {
   "cell_type": "code",
   "execution_count": 10,
   "metadata": {},
   "outputs": [
    {
     "data": {
      "text/plain": [
       "[10, 9, 8, 7, 6, 5, 4, 3, 2, 1]"
      ]
     },
     "execution_count": 10,
     "metadata": {},
     "output_type": "execute_result"
    }
   ],
   "source": [
    "mylist = [1,2,3,4,5,6,7,8,9,10]\n",
    "def invertirLista(lista):\n",
    "    lista.reverse()\n",
    "    return lista\n",
    "invertirLista(mylist)"
   ]
  },
  {
   "cell_type": "code",
   "execution_count": 56,
   "metadata": {},
   "outputs": [
    {
     "data": {
      "text/plain": [
       "[1, 2, 3, 5, 6, 8, 9]"
      ]
     },
     "execution_count": 56,
     "metadata": {},
     "output_type": "execute_result"
    }
   ],
   "source": [
    "mylist = [1,2,3,3,5,6,6,8,9,9]\n",
    "def eliminarValoresRepetidos(lista):\n",
    "    listaNueva = []\n",
    "    for i in lista:\n",
    "        if i not in listaNueva:\n",
    "            listaNueva.append(i)\n",
    "    return listaNueva\n",
    "eliminarValoresRepetidos(mylist)    "
   ]
  },
  {
   "cell_type": "code",
   "execution_count": 1,
   "metadata": {},
   "outputs": [
    {
     "data": {
      "text/plain": [
       "[3, 4, 5, 1, 2]"
      ]
     },
     "execution_count": 1,
     "metadata": {},
     "output_type": "execute_result"
    }
   ],
   "source": [
    "\n",
    "mylist = [1, 2, 3, 4, 5]\n",
    "def rotar_izquierda(lista, n):\n",
    "    n = n % len(lista)  \n",
    "    return lista[n:] + lista[:n]\n",
    "\n",
    "rotar_izquierda(mylist, 2)"
   ]
  },
  {
   "cell_type": "code",
   "execution_count": 26,
   "metadata": {},
   "outputs": [
    {
     "name": "stdout",
     "output_type": "stream",
     "text": [
      "2\n"
     ]
    }
   ],
   "source": [
    "def contar2 (tupla):\n",
    "    contador = 0\n",
    "    for i in mi_tupla:\n",
    "        contador += 1 if i == 2 else 0\n",
    "    print(contador)\n",
    "    \n",
    "mi_tupla = (1,2,2,3,4,\"hola\")\n",
    "contar2(mi_tupla)"
   ]
  },
  {
   "cell_type": "code",
   "execution_count": 27,
   "metadata": {},
   "outputs": [
    {
     "name": "stdout",
     "output_type": "stream",
     "text": [
      "El maximo es 5 y el minimo 1\n"
     ]
    }
   ],
   "source": [
    "def max_min(tu_tupla):\n",
    "    print(f\"El maximo es {max(tu_tupla)} y el minimo {min(tu_tupla)}\")\n",
    "\n",
    "mi_tupla = (1,2,2,3,4,5)    \n",
    "max_min(mi_tupla)"
   ]
  },
  {
   "cell_type": "code",
   "execution_count": 20,
   "metadata": {},
   "outputs": [
    {
     "data": {
      "text/plain": [
       "4"
      ]
     },
     "execution_count": 20,
     "metadata": {},
     "output_type": "execute_result"
    }
   ],
   "source": [
    "def encontrar_cercanos(tupla, num):\n",
    "    return tupla.index(min(tupla, key=lambda x: abs(x-num)))\n",
    "mi_tupla = (1,2,2,3,4,7)\n",
    "encontrar_cercanos(mi_tupla, 5)"
   ]
  },
  {
   "cell_type": "code",
   "execution_count": 8,
   "metadata": {},
   "outputs": [
    {
     "name": "stdout",
     "output_type": "stream",
     "text": [
      "La key paco no existe\n"
     ]
    }
   ],
   "source": [
    "def keyPresente(dicc, keyask):\n",
    "    if keyask in dicc: print(f\"La key '{keyask}' si existe\") \n",
    "    else: print(f\"La key '{keyask}' no existe\")\n",
    "\n",
    "my_dicc = {\n",
    "    \"nombre\": \"Juan\",\n",
    "    \"edad\": 25,\n",
    "    \"ciudad\": \"Madrid\"\n",
    "}\n",
    "\n",
    "keyPresente(my_dicc,\"paco\")"
   ]
  },
  {
   "cell_type": "code",
   "execution_count": 7,
   "metadata": {},
   "outputs": [
    {
     "data": {
      "text/plain": [
       "{'valor1': 2, 'valor2': 4, 'valor3': 6, 'valor4': 4}"
      ]
     },
     "execution_count": 7,
     "metadata": {},
     "output_type": "execute_result"
    }
   ],
   "source": [
    "def suma_diccs(dicc1, dicc2):\n",
    "    result = {}\n",
    "    for clave, valor in dicc1.items():\n",
    "        if clave in dicc2: result[clave] = valor + dicc2[clave]\n",
    "        else: result[clave] = valor\n",
    "    return result\n",
    "\n",
    "dicc1 = {\n",
    "    \"valor1\":1,\n",
    "    \"valor2\":2,\n",
    "    \"valor3\":3,\n",
    "    \"valor4\":4,\n",
    "}\n",
    "\n",
    "dicc2 = {\n",
    "    \"valor1\":1,\n",
    "    \"valor2\":2,\n",
    "    \"valor3\":3,\n",
    "}\n",
    "\n",
    "suma_diccs(dicc1, dicc2)"
   ]
  },
  {
   "cell_type": "code",
   "execution_count": 21,
   "metadata": {},
   "outputs": [
    {
     "name": "stdout",
     "output_type": "stream",
     "text": [
      "Normal: {'nombre': 'Juan', 'edad': 25, 'ciudad': 'Madrid'}\n",
      "Inverso: {'Juan': 'nombre', 25: 'edad', 'Madrid': 'ciudad'}\n"
     ]
    }
   ],
   "source": [
    "def invertirDicc(dicc):\n",
    "    new_dicc={}\n",
    "    for clave, valor in dicc.items(): new_dicc[valor] = clave\n",
    "    return new_dicc\n",
    "\n",
    "my_dicc = {\n",
    "    \"nombre\": \"Juan\",\n",
    "    \"edad\": 25,\n",
    "    \"ciudad\": \"Madrid\"\n",
    "}\n",
    "print(f\"Normal: {my_dicc}\")\n",
    "print(f\"Inverso: {invertirDicc(my_dicc)}\")"
   ]
  },
  {
   "cell_type": "code",
   "execution_count": 25,
   "metadata": {},
   "outputs": [
    {
     "data": {
      "text/plain": [
       "{1, 2, 3, 4, 5, 6, 7, 8}"
      ]
     },
     "execution_count": 25,
     "metadata": {},
     "output_type": "execute_result"
    }
   ],
   "source": [
    "def fusion_sets(set1, set2):\n",
    "    result = set1.union(set2); return result\n",
    "\n",
    "set1 = {1,2,3,4}\n",
    "set2 = {5,6,7,8}\n",
    "\n",
    "fusion_sets(set1, set2)"
   ]
  },
  {
   "cell_type": "code",
   "execution_count": 32,
   "metadata": {},
   "outputs": [
    {
     "name": "stdout",
     "output_type": "stream",
     "text": [
      "Este es el diferente 2\n"
     ]
    }
   ],
   "source": [
    "def found_diference(set1, set2):\n",
    "    for valor in set1:\n",
    "        if valor not in set2: print(f\"Este es el diferente {valor}\") \n",
    "            \n",
    "set1 = {1,2,3,4}\n",
    "set2 = {1,8,3,4}\n",
    "\n",
    "found_diference(set1,set2)"
   ]
  },
  {
   "cell_type": "code",
   "execution_count": 34,
   "metadata": {},
   "outputs": [
    {
     "data": {
      "text/plain": [
       "{1, 2, 3, 4, 5, 6, 7, 8}"
      ]
     },
     "execution_count": 34,
     "metadata": {},
     "output_type": "execute_result"
    }
   ],
   "source": [
    "def interseccion_conjuntos(set1, set2):\n",
    "    for valor in set2:\n",
    "        set1.add(valor)\n",
    "    return set1\n",
    "\n",
    "set1 = {1,3,5,7}\n",
    "set2 = {2,4,6,8}\n",
    "interseccion_conjuntos(set1, set2)"
   ]
  },
  {
   "cell_type": "code",
   "execution_count": 37,
   "metadata": {},
   "outputs": [
    {
     "data": {
      "text/plain": [
       "[1, 3, 5]"
      ]
     },
     "execution_count": 38,
     "metadata": {},
     "output_type": "execute_result"
    }
   ],
   "source": [
    "def num_pares(list_compresion):\n",
    "    return [n for n in list_compresion if n % 2 == 0]\n",
    "\n",
    "mi_lista = [1,2,3,4,5,6]\n",
    "num_pares(mi_lista)"
   ]
  },
  {
   "cell_type": "code",
   "execution_count": 50,
   "metadata": {},
   "outputs": [
    {
     "name": "stdout",
     "output_type": "stream",
     "text": [
      "[1, 9, 25]\n",
      "[1, 9, 25]\n"
     ]
    }
   ],
   "source": [
    "# Version 1\n",
    "def num_inpares(lista):\n",
    "    return [n for n in lista if n % 2 == 1]\n",
    "\n",
    "def cuadrado(lista):\n",
    "    return[n **2 for n in lista ]\n",
    "\n",
    "mi_lista = [1,2,3,4,5,6]\n",
    "print(cuadrado(num_pares(mi_lista)))\n",
    "\n",
    "# Version 2\n",
    "def cuadrado2(lista):\n",
    "    return[n **2 for n in lista if n % 2 == 1]\n",
    "\n",
    "mi_lista2 = [1,2,3,4,5,6]\n",
    "print(cuadrado2(mi_lista2))"
   ]
  },
  {
   "cell_type": "code",
   "execution_count": 52,
   "metadata": {},
   "outputs": [
    {
     "name": "stdout",
     "output_type": "stream",
     "text": [
      "Normal: {'nombre': 'Juan', 'edad': 25, 'ciudad': 'Madrid'}\n",
      "Inverso: {'Juan': 'nombre', 25: 'edad', 'Madrid': 'ciudad'}\n"
     ]
    }
   ],
   "source": [
    "def invertirDiccComprimido(dicc):\n",
    "    return {v:k for k,v in dicc.items()}\n",
    "\n",
    "my_dicc = {\n",
    "    \"nombre\": \"Juan\",\n",
    "    \"edad\": 25,\n",
    "    \"ciudad\": \"Madrid\"\n",
    "}\n",
    "print(f\"Normal: {my_dicc}\")\n",
    "print(f\"Inverso: {invertirDiccComprimido(my_dicc)}\")"
   ]
  },
  {
   "cell_type": "code",
   "execution_count": 7,
   "metadata": {},
   "outputs": [
    {
     "name": "stdout",
     "output_type": "stream",
     "text": [
      "{'manzana': 3, 'banana': 2, 'pera': 1}\n"
     ]
    }
   ],
   "source": [
    "mi_lista = [\"manzana\", \"banana\", \"manzana\", \"pera\", \"banana\", \"manzana\"]\n",
    "dicc_comprimido = {a: mi_lista.count(a) for a in set(mi_lista)}\n",
    "\n",
    "print(dicc_comprimido)"
   ]
  }
 ],
 "metadata": {
  "kernelspec": {
   "display_name": "base",
   "language": "python",
   "name": "python3"
  },
  "language_info": {
   "codemirror_mode": {
    "name": "ipython",
    "version": 3
   },
   "file_extension": ".py",
   "mimetype": "text/x-python",
   "name": "python",
   "nbconvert_exporter": "python",
   "pygments_lexer": "ipython3",
   "version": "3.12.4"
  }
 },
 "nbformat": 4,
 "nbformat_minor": 2
}
