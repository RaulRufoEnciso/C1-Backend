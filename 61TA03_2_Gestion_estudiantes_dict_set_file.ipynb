{
 "cells": [
  {
   "cell_type": "code",
   "execution_count": 1,
   "metadata": {},
   "outputs": [
    {
     "name": "stdout",
     "output_type": "stream",
     "text": [
      "Juan,8.0,8.5,7.8,9.2,8.88,5.5\n",
      "Ana,9.2,8.8,9.1,6.0,7.0,6.0,6.0,8.0,9.0\n",
      "Oscar,7.5,8.5,9.0,10.0,1.0\n"
     ]
    },
    {
     "ename": "",
     "evalue": "",
     "output_type": "error",
     "traceback": [
      "\u001b[1;31mThe Kernel crashed while executing code in the current cell or a previous cell. \n",
      "\u001b[1;31mPlease review the code in the cell(s) to identify a possible cause of the failure. \n",
      "\u001b[1;31mClick <a href='https://aka.ms/vscodeJupyterKernelCrash'>here</a> for more info. \n",
      "\u001b[1;31mView Jupyter <a href='command:jupyter.viewOutput'>log</a> for further details."
     ]
    }
   ],
   "source": [
    "fichero = 'estudiantes.txt'\n",
    "def leer_estudiantes(fichero):\n",
    "    estudiantes=[]\n",
    "    with open(fichero, 'r') as file:\n",
    "        for line in file:\n",
    "            datos = line.strip().split(\",\"); nombre = datos[0]; notas = list(datos); notas = list(map(float, datos[1:])); estudiantes.append((nombre, notas))\n",
    "    return estudiantes\n",
    "\n",
    "def añadir_nota(nombre, nota, estudiantes):\n",
    "    for estudiante in estudiantes:\n",
    "        if estudiante[0] == nombre:\n",
    "            estudiante[1].append(float(nota)); return estudiantes\n",
    "    return estudiantes\n",
    "\n",
    "def guardar_estudiantes(fichero, estudiantes):\n",
    "    f = open(fichero, 'w')\n",
    "    for estudiante in estudiantes:\n",
    "        nombre = f\"{estudiante[0]}\"\n",
    "        for nota in estudiante[1]:\n",
    "            nombre += f\",{str(nota)}\"; print(nombre); f.write(f\"{nombre}\\n\")\n",
    "        \n",
    "def menu():\n",
    "    opcion = input(\"Añadir nota (1) | Exit (2): \")\n",
    "    while  opcion == \"1\":\n",
    "        estudiantes_fichero = leer_estudiantes(fichero)\n",
    "        guardar_estudiantes(fichero, añadir_nota(input(\"Nombre: \"), input(\"Nota: \"), estudiantes_fichero))\n",
    "        opcion = input(\"Añadir nota (1) | Exit (2): \")\n",
    "    else: exit()\n",
    "      \n",
    "menu()"
   ]
  },
  {
   "cell_type": "code",
   "execution_count": 1,
   "metadata": {},
   "outputs": [
    {
     "name": "stdout",
     "output_type": "stream",
     "text": [
      "Juan,matematicas:8.5,ingles:8.0,ciencias:7.8,historia:8.7\n",
      "Ana,matematicas:9.2,ingles:9.0,ciencias:9.1\n",
      "Pedro,ingles:10.0,HTML5:9.0\n",
      "Oscar,HTML:9.0,CSS3:9.5\n"
     ]
    },
    {
     "ename": "",
     "evalue": "",
     "output_type": "error",
     "traceback": [
      "\u001b[1;31mThe Kernel crashed while executing code in the current cell or a previous cell. \n",
      "\u001b[1;31mPlease review the code in the cell(s) to identify a possible cause of the failure. \n",
      "\u001b[1;31mClick <a href='https://aka.ms/vscodeJupyterKernelCrash'>here</a> for more info. \n",
      "\u001b[1;31mView Jupyter <a href='command:jupyter.viewOutput'>log</a> for further details."
     ]
    }
   ],
   "source": [
    "fichero = 'estudiantes2.txt'\n",
    "def leer_estudiantes(fichero):\n",
    "    estudiantes={}\n",
    "    with open(fichero, 'r') as file:\n",
    "        for line in file:\n",
    "            datos = line.strip().split(\",\"); nombre = datos[0]; estudiantes[nombre]={}\n",
    "            for assignaturas in datos[1:]:\n",
    "                materia = assignaturas.split(\":\")[0]; nota = assignaturas.split(\":\")[1]; estudiantes[nombre][materia]=float(nota)\n",
    "        return estudiantes\n",
    "\n",
    "def añadir_nota(nombre, materia, nota, est):\n",
    "    est[nombre][materia] = float(nota); return est\n",
    "\n",
    "def guardar_estudiantes(fichero, est):\n",
    "    f = open(fichero, 'w')\n",
    "    for nombre, materias in est.items():\n",
    "        materias_str = ','.join([f\"{materia}:{nota}\" for materia, nota in materias.items()])\n",
    "        print(f\"{nombre},{materias_str}\"); f.write(f\"{nombre},{materias_str}\\n\")\n",
    "      \n",
    "def menu():\n",
    "    opcion = input(\"Añadir nota (1) | Exit (2): \")\n",
    "    while  opcion == \"1\":\n",
    "        estudiantes_fichero = leer_estudiantes(fichero)\n",
    "        guardar_estudiantes(fichero, añadir_nota(input('Nombre: '),input('Materia: '),input('Nota: '), estudiantes_fichero))\n",
    "        opcion = input(\"Añadir nota (1) | Exit (2): \")\n",
    "    else: exit()\n",
    " \n",
    "menu()"
   ]
  },
  {
   "cell_type": "code",
   "execution_count": 3,
   "metadata": {},
   "outputs": [
    {
     "ename": "",
     "evalue": "",
     "output_type": "error",
     "traceback": [
      "\u001b[1;31mThe Kernel crashed while executing code in the current cell or a previous cell. \n",
      "\u001b[1;31mPlease review the code in the cell(s) to identify a possible cause of the failure. \n",
      "\u001b[1;31mClick <a href='https://aka.ms/vscodeJupyterKernelCrash'>here</a> for more info. \n",
      "\u001b[1;31mView Jupyter <a href='command:jupyter.viewOutput'>log</a> for further details."
     ]
    }
   ],
   "source": [
    "import json\n",
    "\n",
    "fichero='estudiantes2.txt'\n",
    "def leer_fichero(fichero):\n",
    "    estudiantes={}\n",
    "    with open(fichero, 'r') as file:\n",
    "        for line in file:\n",
    "            datos = line.strip().split(\",\"); nombre = datos[0]; estudiantes[nombre]={}\n",
    "            for assignaturas in datos[1:]:\n",
    "                materia = assignaturas.split(\":\")[0]; nota = assignaturas.split(\":\")[1]; estudiantes[nombre][materia]=float(nota)\n",
    "        return estudiantes\n",
    "\n",
    "def añadir_nota(nombre, materia, nota, est):\n",
    "    est[nombre][materia] = float(nota); return est\n",
    "\n",
    "def guardar_estudiantes(fichero, est):\n",
    "    with open(fichero, 'w') as file: json.dump(est,file)\n",
    "\n",
    "def menu():\n",
    "    opcion = input(\"Añadir nota (1) | Exit (2): \")\n",
    "    while  opcion == \"1\":\n",
    "        leer_fichero(fichero); estudiantes = leer_fichero(fichero)\n",
    "        guardar_estudiantes('estudiantes2.json', añadir_nota(input('Nombre: '),input('Materia: '),input('Nota: '),estudiantes))\n",
    "        opcion = input(\"Añadir nota (1) | Exit (2): \")\n",
    "    else: exit()\n",
    "    \n",
    "menu()"
   ]
  }
 ],
 "metadata": {
  "kernelspec": {
   "display_name": "base",
   "language": "python",
   "name": "python3"
  },
  "language_info": {
   "codemirror_mode": {
    "name": "ipython",
    "version": 3
   },
   "file_extension": ".py",
   "mimetype": "text/x-python",
   "name": "python",
   "nbconvert_exporter": "python",
   "pygments_lexer": "ipython3",
   "version": "3.12.4"
  }
 },
 "nbformat": 4,
 "nbformat_minor": 2
}
